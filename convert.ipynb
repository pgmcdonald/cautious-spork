{
  "nbformat": 4,
  "nbformat_minor": 0,
  "metadata": {
    "colab": {
      "provenance": [],
      "authorship_tag": "ABX9TyMZCTTdPvUYgFpUl+OUooU8",
      "include_colab_link": true
    },
    "kernelspec": {
      "name": "python3",
      "display_name": "Python 3"
    },
    "language_info": {
      "name": "python"
    }
  },
  "cells": [
    {
      "cell_type": "markdown",
      "metadata": {
        "id": "view-in-github",
        "colab_type": "text"
      },
      "source": [
        "<a href=\"https://colab.research.google.com/github/pgmcdonald/cautious-spork/blob/main/convert.ipynb\" target=\"_parent\"><img src=\"https://colab.research.google.com/assets/colab-badge.svg\" alt=\"Open In Colab\"/></a>"
      ]
    },
    {
      "cell_type": "code",
      "source": [
        "!pip install xmltodict pandas xlsxwriter"
      ],
      "metadata": {
        "colab": {
          "base_uri": "https://localhost:8080/"
        },
        "id": "KzwEn0RnubEv",
        "outputId": "b86488c8-2758-480e-b563-2a50425dd248"
      },
      "execution_count": null,
      "outputs": [
        {
          "output_type": "stream",
          "name": "stdout",
          "text": [
            "Looking in indexes: https://pypi.org/simple, https://us-python.pkg.dev/colab-wheels/public/simple/\n",
            "Requirement already satisfied: xmltodict in /usr/local/lib/python3.8/dist-packages (0.13.0)\n",
            "Requirement already satisfied: pandas in /usr/local/lib/python3.8/dist-packages (1.3.5)\n",
            "Collecting xlsxwriter\n",
            "  Downloading XlsxWriter-3.0.3-py3-none-any.whl (149 kB)\n",
            "\u001b[K     |████████████████████████████████| 149 kB 8.5 MB/s \n",
            "\u001b[?25hRequirement already satisfied: numpy>=1.17.3 in /usr/local/lib/python3.8/dist-packages (from pandas) (1.21.6)\n",
            "Requirement already satisfied: python-dateutil>=2.7.3 in /usr/local/lib/python3.8/dist-packages (from pandas) (2.8.2)\n",
            "Requirement already satisfied: pytz>=2017.3 in /usr/local/lib/python3.8/dist-packages (from pandas) (2022.6)\n",
            "Requirement already satisfied: six>=1.5 in /usr/local/lib/python3.8/dist-packages (from python-dateutil>=2.7.3->pandas) (1.15.0)\n",
            "Installing collected packages: xlsxwriter\n",
            "Successfully installed xlsxwriter-3.0.3\n"
          ]
        }
      ]
    },
    {
      "cell_type": "code",
      "source": [
        "import sys\n",
        "import os\n",
        "import datetime\n",
        "import xmltodict\n",
        "import pandas as pd\n",
        "import getopt\n",
        "\n",
        "#  BOILERPLATE\n",
        "def parseCommandLineParams(argv):\n",
        "    filepath = \"\"\n",
        "    try:\n",
        "        opts, args = getopt.getopt(argv, \"hf:\", [\"filepath=\"])\n",
        "    except getopt.GetoptError:\n",
        "        printHelp()\n",
        "    for opt, arg in opts:\n",
        "        if opt in (\"-f\", \"--filepath\"):\n",
        "            filepath = arg\n",
        "    return {'filepath': filepath}\n",
        "\n",
        "def printHelp():\n",
        "    print(\"{} --filepath <filebath> \".format(os.path.basename(__file__)))\n",
        "    print(\"<filepath> is relative path or absolute path to XML file\")\n",
        "    sys.exit(2)\n",
        "#  END BOILERPLATE\n",
        "\n",
        "def main():\n",
        "    #args = parseCommandLineParams(argv)\n",
        "\n",
        "    now = datetime.datetime.now()\n",
        "    run_dt = now.strftime(\"%Y%m%d\")\n",
        "\n",
        "    #Add code to clean up XML\n",
        "    \n",
        "    #if args['filepath']:\n",
        "    #    isExist = os.path.isfile(args['filepath'])\n",
        "    #    print(args['filepath'])\n",
        "    #    if not isExist:\n",
        "    #        print(\"The following PATH does not exists, \", args['filepath'])\n",
        "    #        printHelp()\n",
        "    #        sys.exit(2)    \n",
        "    \n",
        "    #List of Dictionsary\n",
        "    dictList=[]\n",
        "    \n",
        "    with open('/CombineXML.xml') as fd:\n",
        "        doc = xmltodict.parse(fd.read())\n",
        "    \n",
        "    for item in doc['root']['DISS_submission']:\n",
        "        data_dict={}\n",
        "        diss_Title = item['DISS_description']['DISS_title']\n",
        "        diss_FullText_Url = \"\"\n",
        "        diss_Binary= item['DISS_content']['DISS_binary']['#text']\n",
        "        diss_Keyword = item['DISS_description']['DISS_categorization']['DISS_keyword']\n",
        "        diss_Abstract= item['DISS_content']['DISS_abstract']['DISS_para']\n",
        "        diss_FName=item['DISS_authorship']['DISS_author']['DISS_name']['DISS_fname']\n",
        "        diss_Middle=item['DISS_authorship']['DISS_author']['DISS_name']['DISS_middle']\n",
        "        diss_SurName=item['DISS_authorship']['DISS_author']['DISS_name']['DISS_surname']\n",
        "        diss_Suffix=item['DISS_authorship']['DISS_author']['DISS_name']['DISS_suffix']\n",
        "    \n",
        "        if(isinstance(item['DISS_authorship']['DISS_author']['DISS_contact'], dict)):\n",
        "            diss_Email=item['DISS_authorship']['DISS_author']['DISS_contact']['DISS_email']\n",
        "    \n",
        "        else:\n",
        "            for contacts in item['DISS_authorship']['DISS_author']['DISS_contact']:\n",
        "                diss_contact_type=contacts['@type']\n",
        "                diss_Email=contacts['DISS_email']\n",
        "    \n",
        "    \n",
        "        diss_Institution= item['DISS_description']['DISS_institution']['DISS_inst_name']\n",
        "        diss_Advisor_fname=item['DISS_description']['DISS_advisor']['DISS_name']['DISS_fname']\n",
        "        diss_Surname=item['DISS_description']['DISS_advisor']['DISS_name']['DISS_surname']\n",
        "        diss_Advisor_name = diss_Advisor_fname+\" \"+diss_Surname\n",
        "        diss_Degree= item['DISS_description']['DISS_degree']\n",
        "        diss_Contact= item['DISS_description']['DISS_institution']['DISS_inst_contact']\n",
        "        diss_Type= item['DISS_description']['@type']\n",
        "        diss_Binary_Type= item['DISS_content']['DISS_binary']['@type']\n",
        "        diss_Language = item['DISS_description']['DISS_categorization']['DISS_language']\n",
        "    \n",
        "        data_dict={  'title': diss_Title, \n",
        "                     'fulltext_url': diss_FullText_Url, \n",
        "                     'filename': diss_Binary,\n",
        "                     'keywords': diss_Keyword,\n",
        "                     'abstract': diss_Abstract,\n",
        "                     'author1_fname':diss_FName,\n",
        "                     'author1_mname':diss_Middle,\n",
        "                     'author1_lname':diss_SurName,\n",
        "                     'author1_suffix':diss_Suffix,\n",
        "                     'author1_email': diss_Email,\n",
        "                     'author1_institution':diss_Institution,\n",
        "                     'advisor1':diss_Advisor_name,\n",
        "                     'advisor2':\"\",\n",
        "                     'advisor3':\"\",\n",
        "                     'award_date':\"\",\n",
        "                     'disciplines':\"\",\n",
        "                     'comments':\"\",\n",
        "                     'copyright_date':\"\",\n",
        "                     'degree_name':diss_Degree,\n",
        "                     'department':diss_Contact,\n",
        "                     'document_type':diss_Type,\n",
        "                     'downloads_prior':\"\",\n",
        "                     'embargo_date':\"\",\n",
        "                     'fileformat':diss_Binary_Type,\n",
        "                     'file_size':\"\",\n",
        "                     'geolocate':\"\",\n",
        "                     'language':diss_Language,\n",
        "                     'latitude':\"\",\n",
        "                     'longitude':\"\",\n",
        "                     'provenance':\"\",\n",
        "                     'publication_date':\"\",\n",
        "                     'season':\"\",\n",
        "                     'publication_date_date_format':\"\",\n",
        "                     'rights_holder':\"\",\n",
        "                   }\n",
        "    \n",
        "        dictList.append(data_dict)\n",
        "        #Debug the Python DIctionary\n",
        "        #Prints each Key:Value\n",
        "        #for key, value in data_dict.items():\n",
        "        #    print(key, ' : ', value)\n",
        "    \n",
        "    df=pd.DataFrame(dictList)\n",
        "    #Print final Dataframe we are writting to Excel. \n",
        "    #print(df)\n",
        "\n",
        "    #EXCEL magic\n",
        "    filename = \"diss_from_xml_export.xlsx\".format(run_dt)\n",
        "    print(\"Export Name: \", filename)\n",
        "    \n",
        "    writer = pd.ExcelWriter(filename, engine='xlsxwriter')\n",
        "    df.to_excel(writer, sheet_name='Export', startrow=1, header=False, index=False)\n",
        "\n",
        "\n",
        "    # Get the xlsxwriter workbook and worksheet objects.\n",
        "    workbook = writer.book\n",
        "    worksheet = writer.sheets['Export']\n",
        "\n",
        "    # Get the dimensions of the dataframe.\n",
        "    (max_row, max_col) = df.shape\n",
        "\n",
        "    # Create a list of column headers, to use in add_table().\\\n",
        "    column_settings = [{'header': column} for column in df.columns]\n",
        "\n",
        "    # Add the Excel table structure. Pandas will add the data.\n",
        "    worksheet.add_table(0, 0, max_row, max_col - 1, {'columns': column_settings, 'style': 'Table Style Medium 1'})   \n",
        "\n",
        "    # Make the columns wider for clarity.\n",
        "    worksheet.set_column(0, max_col - 1, 20) \n",
        "\n",
        "    # Close the Pandas Excel writer and output the Excel file.\n",
        "    writer.close()\n",
        "\n",
        "main()\n"
      ],
      "metadata": {
        "colab": {
          "base_uri": "https://localhost:8080/"
        },
        "id": "LvWgpSFSvDwX",
        "outputId": "ac71ecba-f0e8-4527-95da-6b9679de88fc"
      },
      "execution_count": 19,
      "outputs": [
        {
          "output_type": "stream",
          "name": "stdout",
          "text": [
            "Export Name:  diss_from_xml_export.xlsx\n"
          ]
        }
      ]
    }
  ]
}